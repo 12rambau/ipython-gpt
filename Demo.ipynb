{
 "cells": [
  {
   "cell_type": "code",
   "execution_count": null,
   "id": "5a370839-4e6f-4ae7-b2b6-c4b96e5a9f1d",
   "metadata": {},
   "outputs": [],
   "source": [
    "!pip install ipython-gpt"
   ]
  },
  {
   "cell_type": "code",
   "execution_count": 1,
   "id": "1205f5ea-6b83-48d8-a2cf-0a2a20394aef",
   "metadata": {},
   "outputs": [],
   "source": [
    "%load_ext ipython_gpt"
   ]
  },
  {
   "cell_type": "markdown",
   "id": "f577df99-cf62-4a5b-9b6b-6af5e9181b38",
   "metadata": {},
   "source": [
    "## Setup\n",
    "\n",
    "You must first generate an API key at OpenAI (https://platform.openai.com/account/api-keys) and set is an environment variable `OPENAI_API_KEY`. You can do it by modifying your `.bashrc/.zshrc` or starting jupyter with it:\n",
    "\n",
    "```bash\n",
    "$ OPENAI_API_KEY=[YOUR-KEY] jupyter lab\n",
    "```\n",
    "\n",
    "There are a few other ways to set the API KEY, but the envvar is the recommended one."
   ]
  },
  {
   "cell_type": "markdown",
   "id": "25984927-5edd-438d-baf0-22460d05ad3b",
   "metadata": {},
   "source": [
    "## ChatGPT API\n",
    "\n",
    "The command `%%chat` interfaces with ChatGPT. It accepts multiple parameters (see Usage). Here's an example:"
   ]
  },
  {
   "cell_type": "code",
   "execution_count": 2,
   "id": "cb489c20-a8d9-495a-b828-e05e220e928d",
   "metadata": {},
   "outputs": [
    {
     "data": {
      "text/markdown": [
       "<div style='width:60%;margin-left:5%;'>\n",
       "As an artificial intelligence language model, I cannot provide you with a definite answer to this question. The purpose of life is subjective and varies from person to person. Some people may believe that the purpose of life is to find happiness or fulfillment, while others may believe that it is to serve a higher power or contribute to society. Ultimately, it is up to the individual to determine their own purpose and meaning in life.\n",
       "</div>"
      ],
      "text/plain": [
       "<IPython.core.display.Markdown object>"
      ]
     },
     "metadata": {},
     "output_type": "display_data"
    }
   ],
   "source": [
    "%%chat --max-tokens=25\n",
    "\n",
    "What's the purpose of life?"
   ]
  },
  {
   "cell_type": "markdown",
   "id": "ca4d3838-2c23-447a-8545-112e936596ae",
   "metadata": {},
   "source": [
    "#### A real example"
   ]
  },
  {
   "cell_type": "code",
   "execution_count": 3,
   "id": "6325313d-f182-418e-94b6-6c9b969735be",
   "metadata": {},
   "outputs": [],
   "source": [
    "import pandas as pd"
   ]
  },
  {
   "cell_type": "code",
   "execution_count": 4,
   "id": "f2dfd7f7-c602-4b76-b52c-d13e14609de9",
   "metadata": {},
   "outputs": [],
   "source": [
    "df = pd.read_csv('sp500-marketcap.txt')"
   ]
  },
  {
   "cell_type": "code",
   "execution_count": 5,
   "id": "89765e5a-2f0a-43f8-8b67-c2a02dcde4a3",
   "metadata": {},
   "outputs": [
    {
     "data": {
      "text/html": [
       "<div>\n",
       "<style scoped>\n",
       "    .dataframe tbody tr th:only-of-type {\n",
       "        vertical-align: middle;\n",
       "    }\n",
       "\n",
       "    .dataframe tbody tr th {\n",
       "        vertical-align: top;\n",
       "    }\n",
       "\n",
       "    .dataframe thead th {\n",
       "        text-align: right;\n",
       "    }\n",
       "</style>\n",
       "<table border=\"1\" class=\"dataframe\">\n",
       "  <thead>\n",
       "    <tr style=\"text-align: right;\">\n",
       "      <th></th>\n",
       "      <th>Symbol</th>\n",
       "      <th>Market Cap</th>\n",
       "    </tr>\n",
       "  </thead>\n",
       "  <tbody>\n",
       "    <tr>\n",
       "      <th>0</th>\n",
       "      <td>MMM</td>\n",
       "      <td>138721055226</td>\n",
       "    </tr>\n",
       "    <tr>\n",
       "      <th>1</th>\n",
       "      <td>AOS</td>\n",
       "      <td>10783419933</td>\n",
       "    </tr>\n",
       "    <tr>\n",
       "      <th>2</th>\n",
       "      <td>ABT</td>\n",
       "      <td>102121042306</td>\n",
       "    </tr>\n",
       "    <tr>\n",
       "      <th>3</th>\n",
       "      <td>ABBV</td>\n",
       "      <td>181386347059</td>\n",
       "    </tr>\n",
       "    <tr>\n",
       "      <th>4</th>\n",
       "      <td>ACN</td>\n",
       "      <td>98765855553</td>\n",
       "    </tr>\n",
       "  </tbody>\n",
       "</table>\n",
       "</div>"
      ],
      "text/plain": [
       "  Symbol    Market Cap\n",
       "0    MMM  138721055226\n",
       "1    AOS   10783419933\n",
       "2    ABT  102121042306\n",
       "3   ABBV  181386347059\n",
       "4    ACN   98765855553"
      ]
     },
     "execution_count": 5,
     "metadata": {},
     "output_type": "execute_result"
    }
   ],
   "source": [
    "df.head()"
   ]
  },
  {
   "cell_type": "code",
   "execution_count": 6,
   "id": "ca627c0e-4d3d-442f-bf97-ae2101d1e5ea",
   "metadata": {},
   "outputs": [
    {
     "data": {
      "text/plain": [
       "count    5.050000e+02\n",
       "mean     4.923944e+10\n",
       "std      9.005017e+10\n",
       "min      2.626102e+09\n",
       "25%      1.273207e+10\n",
       "50%      2.140095e+10\n",
       "75%      4.511968e+10\n",
       "max      8.095080e+11\n",
       "Name: Market Cap, dtype: float64"
      ]
     },
     "execution_count": 6,
     "metadata": {},
     "output_type": "execute_result"
    }
   ],
   "source": [
    "df['Market Cap'].describe()"
   ]
  },
  {
   "cell_type": "markdown",
   "id": "6f91df2f-6f41-4fc8-ac4a-a218f34c00e8",
   "metadata": {},
   "source": [
    "**Important** by default, the `%%chat` command preserves the conversation to give the Agent some context, in the same way that ChatGPT works. You can \"reset\" its status passing the flag `--reset-conversation`."
   ]
  },
  {
   "cell_type": "code",
   "execution_count": 2,
   "id": "6689dff8-8f8e-49c0-a54e-af6f56101f0e",
   "metadata": {},
   "outputs": [
    {
     "data": {
      "text/markdown": [
       "<div style='width:60%;margin-left:5%;overflow: scroll;max-height:500px'>\n",
       "\n",
       "You can use the `set_option` method from pandas to achieve this globally. \n",
       "\n",
       "To avoid scientific notation for all floating point numbers in the output, set the `display.float_format` option to a string with a format specification that specifies your desired decimal precision.\n",
       "\n",
       "Here's an example:\n",
       "\n",
       "``` python\n",
       "import pandas as pd\n",
       "\n",
       "# Set the float_format option\n",
       "pd.set_option('display.float_format', lambda x: f'{x:.4f}')\n",
       "\n",
       "# Example dataframe with float values\n",
       "df = pd.DataFrame({'A': [0.00001, 123456.789, 0.123456789], 'B': [-0.00001, -98765.4321, -0.987654321]})\n",
       "\n",
       "# Display the dataframe with the updated float_format option\n",
       "print(df)\n",
       "```\n",
       "\n",
       "This will display floating point numbers with 4 decimal places instead of scientific notation. You can adjust the number of decimal places by changing the number in the format specification.\n",
       "\n",
       "</div>"
      ],
      "text/plain": [
       "<IPython.core.display.Markdown object>"
      ]
     },
     "metadata": {},
     "output_type": "display_data"
    }
   ],
   "source": [
    "%%chat --reset-conversation\n",
    "\n",
    "How can I avoid pandas using scientific notation in outputs, and do it globally?"
   ]
  },
  {
   "cell_type": "markdown",
   "id": "9ad61a16-f24b-4a18-95df-2de94da560dc",
   "metadata": {},
   "source": [
    "Follow up, the chat agent has context, we ask to redo the previous message:"
   ]
  },
  {
   "cell_type": "code",
   "execution_count": 10,
   "id": "b34ab377-a035-4838-91ec-d234b45a5443",
   "metadata": {},
   "outputs": [
    {
     "data": {
      "text/markdown": [
       "<div style='width:60%;margin-left:5%;'>\n",
       "Sure! Here it is:\n",
       "\n",
       "```python\n",
       "pd.options.display.float_format = '{:.2f}'.format\n",
       "```\n",
       "\n",
       "This one line of code sets the `float_format` option to a string format that displays floating-point numbers with two decimal places.\n",
       "</div>"
      ],
      "text/plain": [
       "<IPython.core.display.Markdown object>"
      ]
     },
     "metadata": {},
     "output_type": "display_data"
    }
   ],
   "source": [
    "%%chat\n",
    "\n",
    "Can you be more concise? Just give me the code"
   ]
  },
  {
   "cell_type": "markdown",
   "id": "c391357c-e3d9-4862-b221-4fdcc1c206f6",
   "metadata": {},
   "source": [
    "## Agent's role (system message) and other chat parameters\n",
    "\n",
    "By default, the Chat is started with the role: *\"You're a python data science coding assistant\"*. You can change that by passing something different in your first `%%chat`:\n",
    "\n",
    "```ipython\n",
    "%%chat --system-message=\"You're a R Data Science assistant\"\n",
    "\n",
    "Your message...\n",
    "```\n",
    "\n",
    "Once the conversation has started, you can't change the original message, as the context is preserved. To do so, you must reset the conversation:\n",
    "\n",
    "```ipython\n",
    "%%chat --system-message=\"You're a R Data Science assistant\" --reset-conversation\n",
    "\n",
    "Your message...\n",
    "```"
   ]
  },
  {
   "cell_type": "markdown",
   "id": "d212c515-1915-4c2b-aca6-553bffa98c21",
   "metadata": {},
   "source": [
    "## Setting global config\n",
    "\n",
    "You can change the defaults using the `%chat_config` line magic:\n",
    "\n",
    "```ipython\n",
    "%chat_config --system-message=\"You're an R data scientist coding assistant specialized in visualizations\" --model \"other model\" --reset-conversation\n",
    "```\n",
    "\n",
    "Invoke it without parameters to see the defaults set:"
   ]
  },
  {
   "cell_type": "code",
   "execution_count": 15,
   "id": "52d5d27b-640a-43f0-97d7-9192fda967ea",
   "metadata": {},
   "outputs": [
    {
     "data": {
      "text/markdown": [
       "##### Conf set:\n",
       "\n",
       "* **Default model**: gpt-3.5-turbo\n",
       "* **Default system message**: You're a python data science coding assistant\n",
       "* **Chat history length**: 5"
      ],
      "text/plain": [
       "<IPython.core.display.Markdown object>"
      ]
     },
     "metadata": {},
     "output_type": "display_data"
    }
   ],
   "source": [
    "%chat_config"
   ]
  },
  {
   "cell_type": "markdown",
   "id": "53f0372f-1d6b-46f7-9011-74c0ea0331b5",
   "metadata": {},
   "source": [
    "## Other methods"
   ]
  },
  {
   "cell_type": "markdown",
   "id": "596d7a4a-fc85-458f-bb95-d23258f002f2",
   "metadata": {
    "tags": []
   },
   "source": [
    "#### Display available models\n",
    "\n",
    "Usage:\n",
    "```bash\n",
    "%chat_models [--all-models]\n",
    "```"
   ]
  },
  {
   "cell_type": "code",
   "execution_count": 6,
   "id": "56597506-9d87-4428-8eb4-21d0824c5249",
   "metadata": {},
   "outputs": [
    {
     "data": {
      "text/markdown": [
       "<div style='width:60%;margin-left:5%;'>\n",
       "\n",
       "##### Available models:\n",
       "\n",
       "\t- gpt-3.5-turbo-0301\n",
       "\t- gpt-3.5-turbo\n",
       "</div>"
      ],
      "text/plain": [
       "<IPython.core.display.Markdown object>"
      ]
     },
     "metadata": {},
     "output_type": "display_data"
    }
   ],
   "source": [
    "%chat_models"
   ]
  },
  {
   "cell_type": "markdown",
   "id": "9ad4aa61-7aa1-4c45-a0b2-2dd7c081f95b",
   "metadata": {
    "tags": []
   },
   "source": [
    "#### Display usage and accepted parameters"
   ]
  },
  {
   "cell_type": "code",
   "execution_count": 7,
   "id": "db1b2cad-9c4f-453e-83df-399acbd55cec",
   "metadata": {},
   "outputs": [
    {
     "name": "stdout",
     "output_type": "stream",
     "text": [
      "usage: ipykernel_launcher.py [-h] [--openai-api-key OPENAI_API_KEY]\n",
      "                             [--reset-conversation]\n",
      "                             [--system-message SYSTEM_MESSAGE]\n",
      "                             [--no-system-message] [--model MODEL]\n",
      "                             [--temperature TEMPERATURE]\n",
      "                             [--max-tokens MAX_TOKENS] [--all-models]\n"
     ]
    }
   ],
   "source": [
    "%chat_help"
   ]
  },
  {
   "cell_type": "markdown",
   "id": "fbfd69bb-4ef0-4cdb-b828-dc9a6fea2017",
   "metadata": {},
   "source": [
    "## Alternative authentication\n",
    "\n",
    "Aside from setting the environment variable, you can also set `OPENAI_API_KEY` as a global variable in your notebook, or pass it directly as a parameter in any method ``--openai-api-key=YOUR-KEY`.\n",
    "\n",
    "These alternative methods are NOT recommended, as you might leak your API Key in the notebooks' history, stored in `.ipynb_checkpoints`."
   ]
  }
 ],
 "metadata": {
  "kernelspec": {
   "display_name": "Python 3 (ipykernel)",
   "language": "python",
   "name": "python3"
  },
  "language_info": {
   "codemirror_mode": {
    "name": "ipython",
    "version": 3
   },
   "file_extension": ".py",
   "mimetype": "text/x-python",
   "name": "python",
   "nbconvert_exporter": "python",
   "pygments_lexer": "ipython3",
   "version": "3.8.0"
  }
 },
 "nbformat": 4,
 "nbformat_minor": 5
}
