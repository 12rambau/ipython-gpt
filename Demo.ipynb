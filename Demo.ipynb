{
 "cells": [
  {
   "cell_type": "code",
   "execution_count": null,
   "id": "5a370839-4e6f-4ae7-b2b6-c4b96e5a9f1d",
   "metadata": {},
   "outputs": [],
   "source": [
    "!pip install ipython-gpt"
   ]
  },
  {
   "cell_type": "code",
   "execution_count": null,
   "id": "1205f5ea-6b83-48d8-a2cf-0a2a20394aef",
   "metadata": {},
   "outputs": [],
   "source": [
    "%load_ext ipython_gpt"
   ]
  },
  {
   "cell_type": "markdown",
   "id": "f577df99-cf62-4a5b-9b6b-6af5e9181b38",
   "metadata": {},
   "source": [
    "## Setup\n",
    "\n",
    "You must first generate an API key at OpenAI (https://platform.openai.com/account/api-keys) and set is an environment variable `OPENAI_API_KEY`. You can do it by modifying your `.bashrc/.zshrc` or starting jupyter with it:\n",
    "\n",
    "```bash\n",
    "$ OPENAI_API_KEY=[YOUR-KEY] jupyter lab\n",
    "```\n",
    "\n",
    "There are a few other ways to set the API KEY, but the envvar is the recommended one."
   ]
  },
  {
   "cell_type": "markdown",
   "id": "25984927-5edd-438d-baf0-22460d05ad3b",
   "metadata": {},
   "source": [
    "## ChatGPT API\n",
    "\n",
    "The command `%%chat` interfaces with ChatGPT. It accepts multiple parameters (see Usage). Here's an example:"
   ]
  },
  {
   "cell_type": "code",
   "execution_count": null,
   "id": "cb489c20-a8d9-495a-b828-e05e220e928d",
   "metadata": {},
   "outputs": [],
   "source": [
    "%%chat --max-tokens=25\n",
    "\n",
    "What's the purpose of life?"
   ]
  },
  {
   "cell_type": "markdown",
   "id": "ca4d3838-2c23-447a-8545-112e936596ae",
   "metadata": {},
   "source": [
    "#### A real example"
   ]
  },
  {
   "cell_type": "code",
   "execution_count": null,
   "id": "6325313d-f182-418e-94b6-6c9b969735be",
   "metadata": {},
   "outputs": [],
   "source": [
    "import pandas as pd"
   ]
  },
  {
   "cell_type": "code",
   "execution_count": null,
   "id": "f2dfd7f7-c602-4b76-b52c-d13e14609de9",
   "metadata": {},
   "outputs": [],
   "source": [
    "df = pd.read_csv('sp500-marketcap.txt')"
   ]
  },
  {
   "cell_type": "code",
   "execution_count": null,
   "id": "89765e5a-2f0a-43f8-8b67-c2a02dcde4a3",
   "metadata": {},
   "outputs": [],
   "source": [
    "df.head()"
   ]
  },
  {
   "cell_type": "code",
   "execution_count": null,
   "id": "ca627c0e-4d3d-442f-bf97-ae2101d1e5ea",
   "metadata": {},
   "outputs": [],
   "source": [
    "df['Market Cap'].describe()"
   ]
  },
  {
   "cell_type": "markdown",
   "id": "6f91df2f-6f41-4fc8-ac4a-a218f34c00e8",
   "metadata": {},
   "source": [
    "**Important** by default, the `%%chat` command preserves the conversation to give the Agent some context, in the same way that ChatGPT works. You can \"reset\" its status passing the flag `--reset-conversation`."
   ]
  },
  {
   "cell_type": "code",
   "execution_count": null,
   "id": "6689dff8-8f8e-49c0-a54e-af6f56101f0e",
   "metadata": {},
   "outputs": [],
   "source": [
    "%%chat --reset-conversation\n",
    "\n",
    "How can I avoid pandas using scientific notation in outputs, and do it globally?"
   ]
  },
  {
   "cell_type": "markdown",
   "id": "9ad61a16-f24b-4a18-95df-2de94da560dc",
   "metadata": {},
   "source": [
    "Follow up, the chat agent has context, we ask to redo the previous message:"
   ]
  },
  {
   "cell_type": "code",
   "execution_count": null,
   "id": "b34ab377-a035-4838-91ec-d234b45a5443",
   "metadata": {},
   "outputs": [],
   "source": [
    "%%chat\n",
    "\n",
    "Can you be more concise? Just give me the code"
   ]
  },
  {
   "cell_type": "markdown",
   "id": "c391357c-e3d9-4862-b221-4fdcc1c206f6",
   "metadata": {},
   "source": [
    "## Agent's role (system message) and other chat parameters\n",
    "\n",
    "By default, the Chat is started with the role: *\"You're a python data science coding assistant\"*. You can change that by passing something different in your first `%%chat`:\n",
    "\n",
    "```ipython\n",
    "%%chat --system-message=\"You're a R Data Science assistant\"\n",
    "\n",
    "Your message...\n",
    "```\n",
    "\n",
    "Once the conversation has started, you can't change the original message, as the context is preserved. To do so, you must reset the conversation:\n",
    "\n",
    "```ipython\n",
    "%%chat --system-message=\"You're a R Data Science assistant\" --reset-conversation\n",
    "\n",
    "Your message...\n",
    "```"
   ]
  },
  {
   "cell_type": "markdown",
   "id": "d212c515-1915-4c2b-aca6-553bffa98c21",
   "metadata": {},
   "source": [
    "## Setting global config\n",
    "\n",
    "You can change the defaults using the `%chat_config` line magic:\n",
    "\n",
    "```ipython\n",
    "%chat_config --system-message=\"You're an R data scientist coding assistant specialized in visualizations\" --model \"other model\" --reset-conversation\n",
    "```\n",
    "\n",
    "Invoke it without parameters to see the defaults set:"
   ]
  },
  {
   "cell_type": "code",
   "execution_count": null,
   "id": "52d5d27b-640a-43f0-97d7-9192fda967ea",
   "metadata": {},
   "outputs": [],
   "source": [
    "%chat_config"
   ]
  },
  {
   "cell_type": "markdown",
   "id": "53f0372f-1d6b-46f7-9011-74c0ea0331b5",
   "metadata": {},
   "source": [
    "## Other methods"
   ]
  },
  {
   "cell_type": "markdown",
   "id": "596d7a4a-fc85-458f-bb95-d23258f002f2",
   "metadata": {
    "tags": []
   },
   "source": [
    "#### Display available models\n",
    "\n",
    "Usage:\n",
    "```bash\n",
    "%chat_models [--all-models]\n",
    "```"
   ]
  },
  {
   "cell_type": "code",
   "execution_count": null,
   "id": "56597506-9d87-4428-8eb4-21d0824c5249",
   "metadata": {},
   "outputs": [],
   "source": [
    "%chat_models"
   ]
  },
  {
   "cell_type": "markdown",
   "id": "9ad4aa61-7aa1-4c45-a0b2-2dd7c081f95b",
   "metadata": {
    "tags": []
   },
   "source": [
    "#### Display usage and accepted parameters"
   ]
  },
  {
   "cell_type": "code",
   "execution_count": null,
   "id": "db1b2cad-9c4f-453e-83df-399acbd55cec",
   "metadata": {},
   "outputs": [],
   "source": [
    "%chat_help"
   ]
  },
  {
   "cell_type": "markdown",
   "id": "fbfd69bb-4ef0-4cdb-b828-dc9a6fea2017",
   "metadata": {},
   "source": [
    "## Alternative authentication\n",
    "\n",
    "Aside from setting the environment variable, you can also set `OPENAI_API_KEY` as a global variable in your notebook, or pass it directly as a parameter in any method ``--openai-api-key=YOUR-KEY`.\n",
    "\n",
    "These alternative methods are NOT recommended, as you might leak your API Key in the notebooks' history, stored in `.ipynb_checkpoints`."
   ]
  }
 ],
 "metadata": {
  "kernelspec": {
   "display_name": "Python 3 (ipykernel)",
   "language": "python",
   "name": "python3"
  },
  "language_info": {
   "codemirror_mode": {
    "name": "ipython",
    "version": 3
   },
   "file_extension": ".py",
   "mimetype": "text/x-python",
   "name": "python",
   "nbconvert_exporter": "python",
   "pygments_lexer": "ipython3",
   "version": "3.8.0"
  }
 },
 "nbformat": 4,
 "nbformat_minor": 5
}
